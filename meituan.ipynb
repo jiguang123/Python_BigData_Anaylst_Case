{
 "cells": [
  {
   "cell_type": "markdown",
   "metadata": {},
   "source": [
    "今日主题：python抓取美团网百万商家信息\n",
    "所用模块：requests bs4 数据分析\n",
    "流程分析：1、获取主页源码\n",
    "          2、获取二级菜单链接（美食、电影。。。）\n",
    "          3、商品店家信息"
   ]
  },
  {
   "cell_type": "code",
   "execution_count": 35,
   "metadata": {
    "collapsed": true
   },
   "outputs": [],
   "source": [
    "import requests\n",
    "from bs4 import BeautifulSoup #分析网页 获取标签内容\n",
    "import json\n",
    "import lxml"
   ]
  },
  {
   "cell_type": "code",
   "execution_count": 36,
   "metadata": {
    "collapsed": true
   },
   "outputs": [],
   "source": [
    "url = 'http://chs.meituan.com/'"
   ]
  },
  {
   "cell_type": "code",
   "execution_count": 37,
   "metadata": {
    "collapsed": true
   },
   "outputs": [],
   "source": [
    "headers = {\n",
    "    'User-Agent': 'Mozilla/5.0 (Windows NT 10.0; WOW64) AppleWebKit/537.36 (KHTML, like Gecko) Chrome/55.0.2883.87 Safari/537.36'\n",
    "}"
   ]
  },
  {
   "cell_type": "code",
   "execution_count": 38,
   "metadata": {
    "collapsed": true
   },
   "outputs": [],
   "source": [
    "#获取分类（电影、美食）\n",
    "def get_start_links(url):\n",
    "    html = requests.get(url).text #发送请求获取主页文本\n",
    "    soup = BeautifulSoup(html, 'lxml') #解析网页\n",
    "    links = [link.find('div').find('div').find('dl').find('dt').find('a')['href'] for link in soup.find_all('div', class_='J-nav-item')]\n",
    "    return links\n"
   ]
  },
  {
   "cell_type": "code",
   "execution_count": 39,
   "metadata": {
    "collapsed": true
   },
   "outputs": [],
   "source": [
    "#获取分类链接中的店铺id\n",
    "def get_detail_id(url, headers=None):\n",
    "    html = requests.get(url,headers=headers).text\n",
    "    soup = BeautifulSoup(html,'lxml')\n",
    "    content_id = json.loads(soup.find('div', class_='J-scrollloader cf J-hub')['data-async-params'])\n",
    "    return json.loads(content_id.get('data')).get('poiidList') "
   ]
  },
  {
   "cell_type": "code",
   "execution_count": null,
   "metadata": {
    "collapsed": true
   },
   "outputs": [],
   "source": [
    "#获取店铺详情数据\n",
    "def get_item_info(url, headers=None):\n",
    "    html = requests.get(url,headers=headers).text\n",
    "    soup = BeautifulSoup(html,'lxml')\n",
    "    title = soup.find('span', class_='title').text #标题\n",
    "    score = soup.find('span', class_='biz-level').get_text() #评分\n",
    "    address = soup.find('span', class_='geo').text #地址\n",
    "    phone = soup.find_all('p', class_='under-title')[1].get_text() #电话\n",
    "    Evaluation_number = soup.find('a', class_='num rate-count').text #评价\n",
    "    print (u'店名： '+title) \n",
    "    print (u'评论数量： '+Evaluation_number)\n",
    "    print (u'地址： '+address)\n",
    "    print (u'评分： '+score) \n",
    "    print (u'电话： '+phone)\n",
    "    print ('======================================================')\n",
    "    return (title, score, address, phone, Evaluation_number)"
   ]
  },
  {
   "cell_type": "code",
   "execution_count": 40,
   "metadata": {
    "collapsed": true
   },
   "outputs": [],
   "source": [
    "#多页获取商品id\n",
    "def main(url):\n",
    "    start_url_list = get_start_links(url)\n",
    "    for j in start_url_list:#分类链接\n",
    "        for i in range(1,11): #多页\n",
    "            category_url = j+'/all/page()'.format(i) #完整的分类多页链接\n",
    "            shop_id_list = get_detail_id(category_url,headers=headers)\n",
    "            print (shop_id_list)\n",
    "            for shop_id in shop_id_list:\n",
    "                items = get_item_info(url+'shop/{}'.format(shop_id),headers)\n",
    "                items_list.append(items)\n",
    "\n",
    "if __name__ == '__main__':\n",
    "    items_list = []\n",
    "    main(url)"
   ]
  }
 ],
 "metadata": {
  "kernelspec": {
   "display_name": "Python 3",
   "language": "python",
   "name": "python3"
  },
  "language_info": {
   "codemirror_mode": {
    "name": "ipython",
    "version": 3
   },
   "file_extension": ".py",
   "mimetype": "text/x-python",
   "name": "python",
   "nbconvert_exporter": "python",
   "pygments_lexer": "ipython3",
   "version": "3.6.1"
  }
 },
 "nbformat": 4,
 "nbformat_minor": 2
}
